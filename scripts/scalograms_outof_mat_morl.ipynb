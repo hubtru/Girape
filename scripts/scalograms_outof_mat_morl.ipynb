{
  "cells": [
    {
      "cell_type": "code",
      "execution_count": null,
      "id": "mE6WDspSPBfg",
      "metadata": {
        "id": "mE6WDspSPBfg"
      },
      "outputs": [],
      "source": [
        "import numpy as np\n",
        "import scipy.io\n",
        "import pywt\n",
        "import os\n",
        "import cv2\n",
        "import matplotlib.pyplot as plt\n"
      ]
    },
    {
      "cell_type": "code",
      "execution_count": null,
      "id": "_IZz7nCvPSbT",
      "metadata": {
        "colab": {
          "base_uri": "https://localhost:8080/"
        },
        "id": "_IZz7nCvPSbT",
        "outputId": "a17aa89d-fb96-4c32-d55c-5893bd428e3b"
      },
      "outputs": [],
      "source": [
        "# .mat file summary\n",
        "# Ensure the .mat file exists in the current directory\n",
        "file_name = 'forces_xyz_raw.mat'\n",
        "# Print the current working directory\n",
        "print(os.getcwd())\n",
        "\n",
        "if not os.path.exists(file_name):\n",
        "    print(f\"Error: '{file_name}' not found in the current directory!\")\n",
        "    exit()\n",
        "\n",
        "\n",
        "# Load the MATLAB file\n",
        "data = scipy.io.loadmat('forces_xyz_raw.mat')\n",
        "\n",
        "def summarize_mat(data):\n",
        "    # Get the top-level variables\n",
        "    print(\"Top-level variables in the .mat file:\")\n",
        "    for key, value in data.items():\n",
        "        # Avoid the meta info introduced by scipy\n",
        "        if not key.startswith(\"__\"):\n",
        "            print(f\"\\nVariable: {key}\")\n",
        "            print(f\"Type: {type(value)}\")\n",
        "\n",
        "            # If it's an ndarray (which includes MATLAB matrices, arrays, and cell arrays)\n",
        "            if isinstance(value, np.ndarray):\n",
        "                print(f\"Shape: {value.shape}\")\n",
        "\n",
        "                # For cell arrays (dtype=object in the case of scipy's loading of .mat files)\n",
        "                if value.dtype == 'O':\n",
        "                    # Let's peek into the first few cells to understand their content\n",
        "                    cell_summary = set()\n",
        "                    for i in range(min(5, value.size)):  # up to 5 cells\n",
        "                        cell_data = value.flat[i]\n",
        "                        cell_summary.add(f\"Type: {type(cell_data)}, Shape: {cell_data.shape if isinstance(cell_data, np.ndarray) else 'N/A'}\")\n",
        "\n",
        "                    print(\"Sample cells content:\")\n",
        "                    for s in cell_summary:\n",
        "                        print(f\"  - {s}\")\n",
        "\n",
        "                # For matrices/arrays, show a snippet\n",
        "                else:\n",
        "                    print(f\"Sample Data: {value[:5]}\")  # first 5 elements\n",
        "\n",
        "            # Other types (not expected in standard .mat files, but just in case)\n",
        "            else:\n",
        "                print(value)\n",
        "\n",
        "# Provide the summary\n",
        "summarize_mat(data)"
      ]
    },
    {
      "cell_type": "code",
      "execution_count": null,
      "id": "yTGyghS6O_Vm",
      "metadata": {
        "colab": {
          "base_uri": "https://localhost:8080/",
          "height": 839
        },
        "id": "yTGyghS6O_Vm",
        "outputId": "c8951c90-190f-4208-ce1d-cde6430b87ef"
      },
      "outputs": [],
      "source": [
        "# Sample visualisation\n",
        "#  Load the MATLAB file\n",
        "data = scipy.io.loadmat('forces_xyz_raw.mat')\n",
        "baseDatastore = data['baseDatastore']\n",
        "\n",
        "# Extract the unique classes\n",
        "classes = np.unique([item[1][0] for item in baseDatastore])\n",
        "\n",
        "# Visualization function\n",
        "def visualize_scalogram(force_signal):\n",
        "    coefficients, frequencies = pywt.cwt(force_signal, scales=np.arange(1,128), wavelet='morl', sampling_period=1/1000.0)\n",
        "    scalogram_dB = 10 * np.log10(np.abs(coefficients)**2)\n",
        "    plt.imshow(scalogram_dB, aspect='auto', cmap='jet', extent=[0, len(force_signal)/1000.0, 1, 128])\n",
        "\n",
        "# For each class, visualize a sample scalogram for x, y, and z forces\n",
        "for cls in classes:\n",
        "    samples = [instance for instance in baseDatastore if instance[1][0] == cls]\n",
        "    sample = samples[0]  # take the first sample for visualization\n",
        "    forces = sample[3]\n",
        "\n",
        "    plt.figure(figsize=(15, 5))\n",
        "\n",
        "    for idx, axis in enumerate(['x', 'y', 'z']):\n",
        "        plt.subplot(1, 3, idx+1)\n",
        "        visualize_scalogram(forces[idx, :])\n",
        "        plt.title(f'Class: {cls}, Axis: {axis}')\n",
        "        plt.colorbar(label='Power (dB)')\n",
        "\n",
        "    plt.tight_layout()\n",
        "    plt.show()"
      ]
    },
    {
      "cell_type": "code",
      "execution_count": null,
      "id": "3rqIgJWFRG5S",
      "metadata": {
        "colab": {
          "base_uri": "https://localhost:8080/",
          "height": 1000
        },
        "id": "3rqIgJWFRG5S",
        "outputId": "a9ae2e80-9ac3-4b9f-fb49-97f862f87eb1"
      },
      "outputs": [],
      "source": [
        "# 1. Load the MATLAB file\n",
        "data = scipy.io.loadmat('forces_xyz_raw.mat')\n",
        "baseDatastore = data['baseDatastore']\n",
        "\n",
        "# Extract the unique classes\n",
        "classes = np.unique([item[1][0] for item in baseDatastore])\n",
        "\n",
        "def visualize_scalogram(force_signal, ax):\n",
        "    coefficients, frequencies = pywt.cwt(force_signal, scales=np.arange(1,128), wavelet='morl', sampling_period=1/1000.0)\n",
        "    scalogram_dB = 10 * np.log10(np.abs(coefficients)**2 + 1e-10)  # added a small value to avoid log(0)\n",
        "\n",
        "    # Storing the returned object of imshow in im variable\n",
        "    im = ax.imshow(scalogram_dB, aspect='auto', cmap='jet', extent=[0, len(force_signal)/1000.0, 1, 128])\n",
        "\n",
        "    # Only add colorbar if there's content in the scalogram\n",
        "    if not np.all(scalogram_dB == 0):\n",
        "        plt.colorbar(im, label='Power (dB)', ax=ax)\n",
        "\n",
        "\n",
        "\n",
        "\n",
        "def visualize_raw_force(force_signal, ax):\n",
        "    ax.plot(force_signal)\n",
        "    ax.set_xlim([0, len(force_signal)])\n",
        "    ax.set_title('Raw Force Signal')\n",
        "\n",
        "# For each class, visualize a sample scalogram and raw force for x, y, and z forces\n",
        "for cls in classes:\n",
        "    samples = [instance for instance in baseDatastore if instance[1][0] == cls]\n",
        "    sample = samples[0]  # take the first sample for visualization\n",
        "    forces = sample[3]\n",
        "\n",
        "    plt.figure(figsize=(15, 10))\n",
        "\n",
        "    for idx, axis in enumerate(['x', 'y', 'z']):\n",
        "        # Plot raw force amplitude\n",
        "        ax1 = plt.subplot(2, 3, idx+1)\n",
        "        visualize_raw_force(forces[idx, :], ax1)\n",
        "        ax1.set_title(f'Class: {cls}, Axis: {axis} - Raw Force')\n",
        "\n",
        "        # Plot scalogram\n",
        "        ax2 = plt.subplot(2, 3, idx+4)\n",
        "        visualize_scalogram(forces[idx, :], ax2)\n",
        "        ax2.set_title(f'Class: {cls}, Axis: {axis} - Scalogram')\n",
        "\n",
        "    plt.tight_layout()\n",
        "    plt.show()"
      ]
    },
    {
      "cell_type": "code",
      "execution_count": null,
      "id": "_fWoliiGxmGl",
      "metadata": {
        "colab": {
          "base_uri": "https://localhost:8080/",
          "height": 147
        },
        "id": "_fWoliiGxmGl",
        "outputId": "0c55b820-0be4-4008-ca5d-3cfa84efc351"
      },
      "outputs": [],
      "source": [
        "# Create scalograms\n",
        "# Load the MATLAB file\n",
        "data = scipy.io.loadmat('forces_xyz_raw.mat')\n",
        "baseDatastore = data['baseDatastore']\n",
        "\n",
        "# Create the main folder and subfolders if they don't exist\n",
        "os.makedirs('spec', exist_ok=True)\n",
        "os.makedirs(os.path.join('spec', 'x'), exist_ok=True)\n",
        "os.makedirs(os.path.join('spec', 'y'), exist_ok=True)\n",
        "os.makedirs(os.path.join('spec', 'z'), exist_ok=True)\n",
        "\n",
        "# Process each force sequence in baseDatastore\n",
        "for instance in baseDatastore:\n",
        "    # Extract data\n",
        "    name = instance[0][0].replace('.jpg', '.png')\n",
        "    forces = instance[3]\n",
        "\n",
        "    for idx, axis in enumerate(['x', 'y', 'z']):\n",
        "        force_signal = forces[idx, :]\n",
        "\n",
        "        # 2. & 3. Create scalogram\n",
        "        coefficients, frequencies = pywt.cwt(force_signal, scales=np.arange(1,128), wavelet='morl', sampling_period=1/1000.0)\n",
        "        scalogram_dB = 10 * np.log10(np.abs(coefficients)**2)\n",
        "\n",
        "        # Save scalogram to the appropriate folder\n",
        "        plt.imshow(scalogram_dB, aspect='auto', cmap='jet', extent=[0, len(force_signal)/1000.0, 1, 128])\n",
        "        plt.axis('off')\n",
        "        plt.savefig(os.path.join('spec', axis, name), bbox_inches='tight', pad_inches=0)\n",
        "        plt.clf()\n",
        "\n",
        "print(\"Scalograms saved successfully.\")\n"
      ]
    },
    {
      "cell_type": "code",
      "execution_count": null,
      "id": "EDWG4VZ785wS",
      "metadata": {
        "id": "EDWG4VZ785wS"
      },
      "outputs": [],
      "source": [
        "# Downloading scalograms\n",
        "from google.colab import files\n",
        "# Compress the 'spec' folder into a zip file\n",
        "!zip -r spec.zip spec\n",
        "\n",
        "# Download the zip file\n",
        "files.download('spec.zip')"
      ]
    }
  ],
  "metadata": {
    "colab": {
      "provenance": []
    },
    "kernelspec": {
      "display_name": "Python 3 (ipykernel)",
      "language": "python",
      "name": "python3"
    },
    "language_info": {
      "codemirror_mode": {
        "name": "ipython",
        "version": 3
      },
      "file_extension": ".py",
      "mimetype": "text/x-python",
      "name": "python",
      "nbconvert_exporter": "python",
      "pygments_lexer": "ipython3",
      "version": "3.9.17"
    }
  },
  "nbformat": 4,
  "nbformat_minor": 5
}
